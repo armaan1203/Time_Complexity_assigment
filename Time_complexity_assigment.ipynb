{
  "nbformat": 4,
  "nbformat_minor": 0,
  "metadata": {
    "colab": {
      "provenance": []
    },
    "kernelspec": {
      "name": "python3",
      "display_name": "Python 3"
    },
    "language_info": {
      "name": "python"
    }
  },
  "cells": [
    {
      "cell_type": "code",
      "execution_count": 7,
      "metadata": {
        "id": "WQGUvknLPtjw"
      },
      "outputs": [],
      "source": [
        "def quicksort(arr):\n",
        "  if len(arr) <= 1:\n",
        "    return arr\n",
        "  pivot = arr[len(arr) // 2]\n",
        "  left = [x for x in arr if x < pivot]\n",
        "  middle = [x for x in arr if x == pivot]\n",
        "  right = [x for x in arr if x > pivot]\n",
        "  return quicksort(left) + middle + quicksort(right)"
      ]
    },
    {
      "cell_type": "markdown",
      "source": [
        "The Time colpexity for the above code is :\n",
        "\n",
        "a) Best case:T(n)=O(n log n)\n",
        "b)worst case :T{n}=O(n2)"
      ],
      "metadata": {
        "id": "eu809VAVP5v7"
      }
    },
    {
      "cell_type": "code",
      "source": [
        "def nested_loop_example(matrix):\n",
        "  rows, cols = len(matrix), len(matrix[0])\n",
        "  total = 0\n",
        "  for i in range(rows):\n",
        "    for j in range(cols):\n",
        "      total += matrix[i][j]\n",
        "  return total"
      ],
      "metadata": {
        "id": "ycIVzVl6P41P"
      },
      "execution_count": 8,
      "outputs": []
    },
    {
      "cell_type": "markdown",
      "source": [
        "The Time complexity for above code is:T(n)=O(n)"
      ],
      "metadata": {
        "id": "_d63DT-CQ3GL"
      }
    },
    {
      "cell_type": "code",
      "source": [
        "def example_function(arr):\n",
        "  result = 0\n",
        "  for element in arr:\n",
        "    result += element\n",
        "  return result"
      ],
      "metadata": {
        "id": "wNBLJH5wQuI2"
      },
      "execution_count": 9,
      "outputs": []
    },
    {
      "cell_type": "markdown",
      "source": [
        "The time complexity for the above code is:T(n)=O(n)"
      ],
      "metadata": {
        "id": "pYK1gO6ARXpm"
      }
    },
    {
      "cell_type": "code",
      "source": [
        "def longest_increasing_subsequence(nums):\n",
        "  n = len(nums)\n",
        "  lis = [1] * n\n",
        "  for i in range(1, n):\n",
        "    for j in range(0, i):\n",
        "      if nums[i] > nums[j] and lis[i] < lis[j] + 1:\n",
        "        lis[i] = lis[j] + 1\n",
        "  return max(lis)"
      ],
      "metadata": {
        "id": "ScTQZYETRRuz"
      },
      "execution_count": 10,
      "outputs": []
    },
    {
      "cell_type": "markdown",
      "source": [
        "The time complexity for the above code is : T(n)=O(n2)"
      ],
      "metadata": {
        "id": "cuUWL9pcR3C3"
      }
    },
    {
      "cell_type": "code",
      "source": [
        "def mysterious_function(arr):\n",
        "  n = len(arr)\n",
        "  result = 0\n",
        "  for i in range(n):\n",
        "    for j in range(i, n):\n",
        "      result += arr[i] * arr[j]\n",
        "  return result"
      ],
      "metadata": {
        "id": "ZQllNxuXR06n"
      },
      "execution_count": 11,
      "outputs": []
    },
    {
      "cell_type": "markdown",
      "source": [
        "The time complexity for the above code is:T(n)=O(n2)"
      ],
      "metadata": {
        "id": "CL5yWO4YSVUJ"
      }
    },
    {
      "cell_type": "code",
      "source": [
        "def sum_of_digits(n):\n",
        "  if n==0:\n",
        "    return 0\n",
        "  else:\n",
        "    return n%10+sum_of_digits(n//10)\n",
        "\n",
        "number=1234\n",
        "print(\"The sum of digits is:\",sum_of_digits(number))"
      ],
      "metadata": {
        "colab": {
          "base_uri": "https://localhost:8080/"
        },
        "id": "IEkHelP_SUK7",
        "outputId": "8a9e8101-3746-4fd6-d32b-bc5c082d0b52"
      },
      "execution_count": 12,
      "outputs": [
        {
          "output_type": "stream",
          "name": "stdout",
          "text": [
            "The sum of digits is: 10\n"
          ]
        }
      ]
    },
    {
      "cell_type": "code",
      "source": [
        "def generate_fibb(n):\n",
        "  if n==1:\n",
        "    return [0]\n",
        "  elif n==2:\n",
        "    return [0,1]\n",
        "  series=generate_fibb(n-1)\n",
        "  series.append(series[-1]+series[-2])\n",
        "  return series\n",
        "\n",
        "generate_fibb(6)"
      ],
      "metadata": {
        "colab": {
          "base_uri": "https://localhost:8080/"
        },
        "id": "bUeiKYFZUwI-",
        "outputId": "b2a93b23-daf4-4798-aa7e-5cf5a492607b"
      },
      "execution_count": 13,
      "outputs": [
        {
          "output_type": "execute_result",
          "data": {
            "text/plain": [
              "[0, 1, 1, 2, 3, 5]"
            ]
          },
          "metadata": {},
          "execution_count": 13
        }
      ]
    },
    {
      "cell_type": "code",
      "source": [
        "def check_subset(l,n):\n",
        "  if n==0:\n",
        "    return True\n",
        "  if not l:\n",
        "    return False\n",
        "\n",
        "  include=check_subset(l[:-1],n-l[-1])\n",
        "  exclude=check_subset(l[:-1],n)\n",
        "\n",
        "  return include or exclude\n",
        "\n",
        "check_subset([1,4,3,5,7],100)"
      ],
      "metadata": {
        "colab": {
          "base_uri": "https://localhost:8080/"
        },
        "id": "IqPH6GBzWPlF",
        "outputId": "faeb8f2f-8b57-4568-9180-e126b96e1e95"
      },
      "execution_count": 14,
      "outputs": [
        {
          "output_type": "execute_result",
          "data": {
            "text/plain": [
              "False"
            ]
          },
          "metadata": {},
          "execution_count": 14
        }
      ]
    },
    {
      "cell_type": "code",
      "source": [
        "def word_break(s,n):\n",
        "  if not s:\n",
        "    return True\n",
        "\n",
        "  for i in range(1,len(s)+1):\n",
        "    prefix=s[:i]\n",
        "    if prefix in n and word_break(s[i:],n):\n",
        "      return True\n",
        "  return False\n",
        "\n",
        "word_break(\"leetcode\",{'leet','code'})"
      ],
      "metadata": {
        "id": "ognJAeFPbQ9H",
        "colab": {
          "base_uri": "https://localhost:8080/"
        },
        "outputId": "b2538b08-9bd0-4edd-9b1f-3eb64a0ae092"
      },
      "execution_count": 3,
      "outputs": [
        {
          "output_type": "execute_result",
          "data": {
            "text/plain": [
              "True"
            ]
          },
          "metadata": {},
          "execution_count": 3
        }
      ]
    },
    {
      "cell_type": "code",
      "source": [
        "def n_queens(n):\n",
        "    def solve(board, row, cols, diag1, diag2, solutions):\n",
        "        if row == n:\n",
        "            solutions.append([\"\".join(row) for row in board])\n",
        "            return\n",
        "\n",
        "        for col in range(n):\n",
        "\n",
        "            if col in cols or (row - col) in diag1 or (row + col) in diag2:\n",
        "                continue\n",
        "\n",
        "            board[row][col] = \"Q\"\n",
        "            cols.add(col)\n",
        "            diag1.add(row - col)\n",
        "            diag2.add(row + col)\n",
        "\n",
        "\n",
        "            solve(board, row + 1, cols, diag1, diag2, solutions)\n",
        "\n",
        "\n",
        "            board[row][col] = \".\"\n",
        "            cols.remove(col)\n",
        "            diag1.remove(row - col)\n",
        "            diag2.remove(row + col)\n",
        "\n",
        "    board = [[\".\" for _ in range(n)] for _ in range(n)]\n",
        "    solutions = []\n",
        "    solve(board, 0, set(), set(), set(), solutions)\n",
        "    return solutions\n",
        "\n",
        "\n",
        "solutions = n_queens(4)\n",
        "for solution in solutions:\n",
        "    for row in solution:\n",
        "        print(row)\n",
        "    print()\n"
      ],
      "metadata": {
        "id": "1OXcqaHyMouk",
        "colab": {
          "base_uri": "https://localhost:8080/"
        },
        "outputId": "94ded122-2a50-423e-97f5-4313e596b4cb"
      },
      "execution_count": 8,
      "outputs": [
        {
          "output_type": "stream",
          "name": "stdout",
          "text": [
            ".Q..\n",
            "...Q\n",
            "Q...\n",
            "..Q.\n",
            "\n",
            "..Q.\n",
            "Q...\n",
            "...Q\n",
            ".Q..\n",
            "\n"
          ]
        }
      ]
    },
    {
      "cell_type": "code",
      "source": [],
      "metadata": {
        "id": "Es-EwJxMRz41"
      },
      "execution_count": null,
      "outputs": []
    }
  ]
}